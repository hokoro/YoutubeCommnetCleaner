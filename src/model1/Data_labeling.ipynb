{
  "nbformat": 4,
  "nbformat_minor": 0,
  "metadata": {
    "colab": {
      "name": "Data_labeling.ipynb",
      "provenance": [],
      "collapsed_sections": []
    },
    "kernelspec": {
      "name": "python3",
      "display_name": "Python 3"
    },
    "language_info": {
      "name": "python"
    }
  },
  "cells": [
    {
      "cell_type": "code",
      "execution_count": null,
      "metadata": {
        "id": "WMZKGkSSAkbx"
      },
      "outputs": [],
      "source": [
        "import pandas as pd\n",
        "\n",
        "file = pd.read_excel('/content/AI_Wave_1.xlsx')"
      ]
    },
    {
      "cell_type": "code",
      "source": [
        "positive_list = []\n",
        "negative_list = []\n",
        "fword_list = []"
      ],
      "metadata": {
        "id": "BLotU-c5GUvF"
      },
      "execution_count": null,
      "outputs": []
    },
    {
      "cell_type": "code",
      "source": [
        "with open(\"/content/positive_data.txt\", \"r\") as outfile:\n",
        "  for i in outfile.readlines():\n",
        "    i = i.replace('\\n', '')\n",
        "    positive_list.append(i)"
      ],
      "metadata": {
        "id": "MbBCRyfPIdfH"
      },
      "execution_count": null,
      "outputs": []
    },
    {
      "cell_type": "code",
      "source": [
        "for i in range(file.index.stop):\n",
        "    if file['감정_대분류'][i] == \"기쁨\":\n",
        "      positive_list.append(file['사람문장1'][i] + '\\n')"
      ],
      "metadata": {
        "id": "1OpT_UuHIrIG"
      },
      "execution_count": null,
      "outputs": []
    },
    {
      "cell_type": "code",
      "source": [
        "for i in range(file.index.stop):\n",
        "  if file['감정_대분류'][i] != \"기쁨\":\n",
        "    negative_list.append(file['사람문장1'][i])"
      ],
      "metadata": {
        "id": "9XvxmRihJlRe"
      },
      "execution_count": null,
      "outputs": []
    },
    {
      "cell_type": "code",
      "source": [
        "with open(\"/content/fword_data.txt\", \"r\") as outfile:\n",
        "  for i in outfile.readlines():\n",
        "    i = i.replace('\\n', '')\n",
        "    fword_list.append(i)"
      ],
      "metadata": {
        "id": "H8XZUvIVgu8j"
      },
      "execution_count": null,
      "outputs": []
    },
    {
      "cell_type": "code",
      "source": [
        "len(positive_list)"
      ],
      "metadata": {
        "colab": {
          "base_uri": "https://localhost:8080/"
        },
        "id": "gQB9ygeNJ0CZ",
        "outputId": "32c50481-582e-4e72-b3e8-2bfc9f83953d"
      },
      "execution_count": null,
      "outputs": [
        {
          "output_type": "execute_result",
          "data": {
            "text/plain": [
              "8388"
            ]
          },
          "metadata": {},
          "execution_count": 7
        }
      ]
    },
    {
      "cell_type": "code",
      "source": [
        "len(negative_list)"
      ],
      "metadata": {
        "colab": {
          "base_uri": "https://localhost:8080/"
        },
        "id": "PdUHc5S2KF0K",
        "outputId": "c949d754-e588-407c-d818-a9dcc423c54b"
      },
      "execution_count": null,
      "outputs": [
        {
          "output_type": "execute_result",
          "data": {
            "text/plain": [
              "8321"
            ]
          },
          "metadata": {},
          "execution_count": 8
        }
      ]
    },
    {
      "cell_type": "code",
      "source": [
        "len(fword_list)"
      ],
      "metadata": {
        "colab": {
          "base_uri": "https://localhost:8080/"
        },
        "id": "b0DfwON8hVA3",
        "outputId": "5807d9dc-0a47-4713-9933-51e4ae7362c9"
      },
      "execution_count": null,
      "outputs": [
        {
          "output_type": "execute_result",
          "data": {
            "text/plain": [
              "8029"
            ]
          },
          "metadata": {},
          "execution_count": 9
        }
      ]
    },
    {
      "cell_type": "code",
      "source": [
        "final_data = pd.DataFrame(columns=[\"Sentence\", \"label\"])\n",
        "final_data\n",
        "\n",
        "# 긍정 > 부정 > 욕설 추가\n",
        "for i in range(len(positive_list)):\n",
        "  final_data.loc[i] = [positive_list[i], \"긍정\"]\n",
        "\n",
        "for i in range( len(negative_list)):\n",
        "  final_data.loc[i+ len(positive_list)] = [negative_list[i], \"부정\"]\n",
        "\n",
        "for i in range( len(fword_list)):\n",
        "  final_data.loc[i+ len(positive_list) + len(negative_list)] = [fword_list[i], \"욕설\"]"
      ],
      "metadata": {
        "id": "dwGx3eyKLzyR"
      },
      "execution_count": null,
      "outputs": []
    },
    {
      "cell_type": "code",
      "source": [
        "final_data"
      ],
      "metadata": {
        "id": "h69ir-xyRaZ9",
        "colab": {
          "base_uri": "https://localhost:8080/",
          "height": 423
        },
        "outputId": "86a4062f-c8c4-4408-fa48-0f16705edd09"
      },
      "execution_count": null,
      "outputs": [
        {
          "output_type": "execute_result",
          "data": {
            "text/plain": [
              "                                                Sentence label\n",
              "0      진짜 내 삶에 위로가 되는 노래ㅠㅠ 밝고 발랄한 멜로디인데 이 노래만 들으면 눈물이 난다    긍정\n",
              "1      가사가 너무 아름다워요 요즘 아침마다 들으면서 긍정으로 아침을 시작하고 있어요 감사...    긍정\n",
              "2      와 진짜 내가 이걸 처음 들었을때의 감동을 잊을수가 없다..들으면서 위로받고 먹먹했...    긍정\n",
              "3      그냥 좋다....이 좋음을 이 글로 표현 할 수 가없다...아이유는 가수계의 모차르...    긍정\n",
              "4      대한민국에서 제일 메이저한 여가수 중 한명인 아이유가 말하는 마이너한 아름다움이라니...    긍정\n",
              "...                                                  ...   ...\n",
              "24733                        인권충 으디갔노이기야 n번방은 인권충도 거르노이기    욕설\n",
              "24734                 이젠 음식갔고 성차별이렌다.. 이런 미친 언론... 퉷~~~♡    욕설\n",
              "24735  윽엑 .. 시발 나알던 흙수저 공시충 생각나노.. 흙수저 새끼들 결혼하고 애낳는거에...    욕설\n",
              "24736  이해할 수 있는 사람도 있고 이해하지 못하는 사람도 있다. 이해하라고 강요하는 사람...    욕설\n",
              "24737   그러니까 흙수저로 계속 사는거지 그냥 넵둬라 흙수저나 창녀나 그렇게 삶을 살다 가는거지    욕설\n",
              "\n",
              "[24738 rows x 2 columns]"
            ],
            "text/html": [
              "\n",
              "  <div id=\"df-688dbf12-1b37-4e17-bc5d-e23d8e983ddd\">\n",
              "    <div class=\"colab-df-container\">\n",
              "      <div>\n",
              "<style scoped>\n",
              "    .dataframe tbody tr th:only-of-type {\n",
              "        vertical-align: middle;\n",
              "    }\n",
              "\n",
              "    .dataframe tbody tr th {\n",
              "        vertical-align: top;\n",
              "    }\n",
              "\n",
              "    .dataframe thead th {\n",
              "        text-align: right;\n",
              "    }\n",
              "</style>\n",
              "<table border=\"1\" class=\"dataframe\">\n",
              "  <thead>\n",
              "    <tr style=\"text-align: right;\">\n",
              "      <th></th>\n",
              "      <th>Sentence</th>\n",
              "      <th>label</th>\n",
              "    </tr>\n",
              "  </thead>\n",
              "  <tbody>\n",
              "    <tr>\n",
              "      <th>0</th>\n",
              "      <td>진짜 내 삶에 위로가 되는 노래ㅠㅠ 밝고 발랄한 멜로디인데 이 노래만 들으면 눈물이 난다</td>\n",
              "      <td>긍정</td>\n",
              "    </tr>\n",
              "    <tr>\n",
              "      <th>1</th>\n",
              "      <td>가사가 너무 아름다워요 요즘 아침마다 들으면서 긍정으로 아침을 시작하고 있어요 감사...</td>\n",
              "      <td>긍정</td>\n",
              "    </tr>\n",
              "    <tr>\n",
              "      <th>2</th>\n",
              "      <td>와 진짜 내가 이걸 처음 들었을때의 감동을 잊을수가 없다..들으면서 위로받고 먹먹했...</td>\n",
              "      <td>긍정</td>\n",
              "    </tr>\n",
              "    <tr>\n",
              "      <th>3</th>\n",
              "      <td>그냥 좋다....이 좋음을 이 글로 표현 할 수 가없다...아이유는 가수계의 모차르...</td>\n",
              "      <td>긍정</td>\n",
              "    </tr>\n",
              "    <tr>\n",
              "      <th>4</th>\n",
              "      <td>대한민국에서 제일 메이저한 여가수 중 한명인 아이유가 말하는 마이너한 아름다움이라니...</td>\n",
              "      <td>긍정</td>\n",
              "    </tr>\n",
              "    <tr>\n",
              "      <th>...</th>\n",
              "      <td>...</td>\n",
              "      <td>...</td>\n",
              "    </tr>\n",
              "    <tr>\n",
              "      <th>24733</th>\n",
              "      <td>인권충 으디갔노이기야 n번방은 인권충도 거르노이기</td>\n",
              "      <td>욕설</td>\n",
              "    </tr>\n",
              "    <tr>\n",
              "      <th>24734</th>\n",
              "      <td>이젠 음식갔고 성차별이렌다.. 이런 미친 언론... 퉷~~~♡</td>\n",
              "      <td>욕설</td>\n",
              "    </tr>\n",
              "    <tr>\n",
              "      <th>24735</th>\n",
              "      <td>윽엑 .. 시발 나알던 흙수저 공시충 생각나노.. 흙수저 새끼들 결혼하고 애낳는거에...</td>\n",
              "      <td>욕설</td>\n",
              "    </tr>\n",
              "    <tr>\n",
              "      <th>24736</th>\n",
              "      <td>이해할 수 있는 사람도 있고 이해하지 못하는 사람도 있다. 이해하라고 강요하는 사람...</td>\n",
              "      <td>욕설</td>\n",
              "    </tr>\n",
              "    <tr>\n",
              "      <th>24737</th>\n",
              "      <td>그러니까 흙수저로 계속 사는거지 그냥 넵둬라 흙수저나 창녀나 그렇게 삶을 살다 가는거지</td>\n",
              "      <td>욕설</td>\n",
              "    </tr>\n",
              "  </tbody>\n",
              "</table>\n",
              "<p>24738 rows × 2 columns</p>\n",
              "</div>\n",
              "      <button class=\"colab-df-convert\" onclick=\"convertToInteractive('df-688dbf12-1b37-4e17-bc5d-e23d8e983ddd')\"\n",
              "              title=\"Convert this dataframe to an interactive table.\"\n",
              "              style=\"display:none;\">\n",
              "        \n",
              "  <svg xmlns=\"http://www.w3.org/2000/svg\" height=\"24px\"viewBox=\"0 0 24 24\"\n",
              "       width=\"24px\">\n",
              "    <path d=\"M0 0h24v24H0V0z\" fill=\"none\"/>\n",
              "    <path d=\"M18.56 5.44l.94 2.06.94-2.06 2.06-.94-2.06-.94-.94-2.06-.94 2.06-2.06.94zm-11 1L8.5 8.5l.94-2.06 2.06-.94-2.06-.94L8.5 2.5l-.94 2.06-2.06.94zm10 10l.94 2.06.94-2.06 2.06-.94-2.06-.94-.94-2.06-.94 2.06-2.06.94z\"/><path d=\"M17.41 7.96l-1.37-1.37c-.4-.4-.92-.59-1.43-.59-.52 0-1.04.2-1.43.59L10.3 9.45l-7.72 7.72c-.78.78-.78 2.05 0 2.83L4 21.41c.39.39.9.59 1.41.59.51 0 1.02-.2 1.41-.59l7.78-7.78 2.81-2.81c.8-.78.8-2.07 0-2.86zM5.41 20L4 18.59l7.72-7.72 1.47 1.35L5.41 20z\"/>\n",
              "  </svg>\n",
              "      </button>\n",
              "      \n",
              "  <style>\n",
              "    .colab-df-container {\n",
              "      display:flex;\n",
              "      flex-wrap:wrap;\n",
              "      gap: 12px;\n",
              "    }\n",
              "\n",
              "    .colab-df-convert {\n",
              "      background-color: #E8F0FE;\n",
              "      border: none;\n",
              "      border-radius: 50%;\n",
              "      cursor: pointer;\n",
              "      display: none;\n",
              "      fill: #1967D2;\n",
              "      height: 32px;\n",
              "      padding: 0 0 0 0;\n",
              "      width: 32px;\n",
              "    }\n",
              "\n",
              "    .colab-df-convert:hover {\n",
              "      background-color: #E2EBFA;\n",
              "      box-shadow: 0px 1px 2px rgba(60, 64, 67, 0.3), 0px 1px 3px 1px rgba(60, 64, 67, 0.15);\n",
              "      fill: #174EA6;\n",
              "    }\n",
              "\n",
              "    [theme=dark] .colab-df-convert {\n",
              "      background-color: #3B4455;\n",
              "      fill: #D2E3FC;\n",
              "    }\n",
              "\n",
              "    [theme=dark] .colab-df-convert:hover {\n",
              "      background-color: #434B5C;\n",
              "      box-shadow: 0px 1px 3px 1px rgba(0, 0, 0, 0.15);\n",
              "      filter: drop-shadow(0px 1px 2px rgba(0, 0, 0, 0.3));\n",
              "      fill: #FFFFFF;\n",
              "    }\n",
              "  </style>\n",
              "\n",
              "      <script>\n",
              "        const buttonEl =\n",
              "          document.querySelector('#df-688dbf12-1b37-4e17-bc5d-e23d8e983ddd button.colab-df-convert');\n",
              "        buttonEl.style.display =\n",
              "          google.colab.kernel.accessAllowed ? 'block' : 'none';\n",
              "\n",
              "        async function convertToInteractive(key) {\n",
              "          const element = document.querySelector('#df-688dbf12-1b37-4e17-bc5d-e23d8e983ddd');\n",
              "          const dataTable =\n",
              "            await google.colab.kernel.invokeFunction('convertToInteractive',\n",
              "                                                     [key], {});\n",
              "          if (!dataTable) return;\n",
              "\n",
              "          const docLinkHtml = 'Like what you see? Visit the ' +\n",
              "            '<a target=\"_blank\" href=https://colab.research.google.com/notebooks/data_table.ipynb>data table notebook</a>'\n",
              "            + ' to learn more about interactive tables.';\n",
              "          element.innerHTML = '';\n",
              "          dataTable['output_type'] = 'display_data';\n",
              "          await google.colab.output.renderOutput(dataTable, element);\n",
              "          const docLink = document.createElement('div');\n",
              "          docLink.innerHTML = docLinkHtml;\n",
              "          element.appendChild(docLink);\n",
              "        }\n",
              "      </script>\n",
              "    </div>\n",
              "  </div>\n",
              "  "
            ]
          },
          "metadata": {},
          "execution_count": 11
        }
      ]
    },
    {
      "cell_type": "code",
      "source": [
        "final_data = final_data.sample(frac=1).reset_index(drop=True)"
      ],
      "metadata": {
        "id": "TusMA6hKh8Hg"
      },
      "execution_count": null,
      "outputs": []
    },
    {
      "cell_type": "code",
      "source": [
        "final_data"
      ],
      "metadata": {
        "colab": {
          "base_uri": "https://localhost:8080/",
          "height": 423
        },
        "id": "F0xKdMjjiLn6",
        "outputId": "530993f2-f7af-4e0b-cc06-225b5ecceaf6"
      },
      "execution_count": null,
      "outputs": [
        {
          "output_type": "execute_result",
          "data": {
            "text/plain": [
              "                                                Sentence label\n",
              "0      홍진영 언니 진짜 연기 잘해!!얼굴두 이쁘구 노래두 잘 부르구 끼도 많음~~나는.....    긍정\n",
              "1      그동안 열심히 앞만 보면서 묵묵히 살아왔는데 건강이 많이 안 좋다고 하네. 열심히 ...    부정\n",
              "2                  나를 떨리게 하나요~ 부터 완전 끌림~^^ 장범준 노래 멋져요~^^    긍정\n",
              "3                                        도움이 되었습니다 감사합니다    긍정\n",
              "4                                             똥이 묻었노ㅋㅋㅋㅋ    욕설\n",
              "...                                                  ...   ...\n",
              "24733                    활기찬 하루를 보내려고 해도 기운이 없어. 너무 힘들어.    부정\n",
              "24734  요리를 하다가 칼에 손이 많이 베여서 병원에 갔는데 다행히 인대는 안 다쳤데 얼마나...    긍정\n",
              "24735                               아직 한국여자랑 결혼하는 등신이 있냐    욕설\n",
              "24736                        하다하다 데이트폭력범을 방송에 소환하니......    욕설\n",
              "24737                        아빠 사업에 문제가 생겼다고 하네 많이 불안하다.    부정\n",
              "\n",
              "[24738 rows x 2 columns]"
            ],
            "text/html": [
              "\n",
              "  <div id=\"df-32db973f-b18a-438f-883e-31477fb1c90d\">\n",
              "    <div class=\"colab-df-container\">\n",
              "      <div>\n",
              "<style scoped>\n",
              "    .dataframe tbody tr th:only-of-type {\n",
              "        vertical-align: middle;\n",
              "    }\n",
              "\n",
              "    .dataframe tbody tr th {\n",
              "        vertical-align: top;\n",
              "    }\n",
              "\n",
              "    .dataframe thead th {\n",
              "        text-align: right;\n",
              "    }\n",
              "</style>\n",
              "<table border=\"1\" class=\"dataframe\">\n",
              "  <thead>\n",
              "    <tr style=\"text-align: right;\">\n",
              "      <th></th>\n",
              "      <th>Sentence</th>\n",
              "      <th>label</th>\n",
              "    </tr>\n",
              "  </thead>\n",
              "  <tbody>\n",
              "    <tr>\n",
              "      <th>0</th>\n",
              "      <td>홍진영 언니 진짜 연기 잘해!!얼굴두 이쁘구 노래두 잘 부르구 끼도 많음~~나는.....</td>\n",
              "      <td>긍정</td>\n",
              "    </tr>\n",
              "    <tr>\n",
              "      <th>1</th>\n",
              "      <td>그동안 열심히 앞만 보면서 묵묵히 살아왔는데 건강이 많이 안 좋다고 하네. 열심히 ...</td>\n",
              "      <td>부정</td>\n",
              "    </tr>\n",
              "    <tr>\n",
              "      <th>2</th>\n",
              "      <td>나를 떨리게 하나요~ 부터 완전 끌림~^^ 장범준 노래 멋져요~^^</td>\n",
              "      <td>긍정</td>\n",
              "    </tr>\n",
              "    <tr>\n",
              "      <th>3</th>\n",
              "      <td>도움이 되었습니다 감사합니다</td>\n",
              "      <td>긍정</td>\n",
              "    </tr>\n",
              "    <tr>\n",
              "      <th>4</th>\n",
              "      <td>똥이 묻었노ㅋㅋㅋㅋ</td>\n",
              "      <td>욕설</td>\n",
              "    </tr>\n",
              "    <tr>\n",
              "      <th>...</th>\n",
              "      <td>...</td>\n",
              "      <td>...</td>\n",
              "    </tr>\n",
              "    <tr>\n",
              "      <th>24733</th>\n",
              "      <td>활기찬 하루를 보내려고 해도 기운이 없어. 너무 힘들어.</td>\n",
              "      <td>부정</td>\n",
              "    </tr>\n",
              "    <tr>\n",
              "      <th>24734</th>\n",
              "      <td>요리를 하다가 칼에 손이 많이 베여서 병원에 갔는데 다행히 인대는 안 다쳤데 얼마나...</td>\n",
              "      <td>긍정</td>\n",
              "    </tr>\n",
              "    <tr>\n",
              "      <th>24735</th>\n",
              "      <td>아직 한국여자랑 결혼하는 등신이 있냐</td>\n",
              "      <td>욕설</td>\n",
              "    </tr>\n",
              "    <tr>\n",
              "      <th>24736</th>\n",
              "      <td>하다하다 데이트폭력범을 방송에 소환하니......</td>\n",
              "      <td>욕설</td>\n",
              "    </tr>\n",
              "    <tr>\n",
              "      <th>24737</th>\n",
              "      <td>아빠 사업에 문제가 생겼다고 하네 많이 불안하다.</td>\n",
              "      <td>부정</td>\n",
              "    </tr>\n",
              "  </tbody>\n",
              "</table>\n",
              "<p>24738 rows × 2 columns</p>\n",
              "</div>\n",
              "      <button class=\"colab-df-convert\" onclick=\"convertToInteractive('df-32db973f-b18a-438f-883e-31477fb1c90d')\"\n",
              "              title=\"Convert this dataframe to an interactive table.\"\n",
              "              style=\"display:none;\">\n",
              "        \n",
              "  <svg xmlns=\"http://www.w3.org/2000/svg\" height=\"24px\"viewBox=\"0 0 24 24\"\n",
              "       width=\"24px\">\n",
              "    <path d=\"M0 0h24v24H0V0z\" fill=\"none\"/>\n",
              "    <path d=\"M18.56 5.44l.94 2.06.94-2.06 2.06-.94-2.06-.94-.94-2.06-.94 2.06-2.06.94zm-11 1L8.5 8.5l.94-2.06 2.06-.94-2.06-.94L8.5 2.5l-.94 2.06-2.06.94zm10 10l.94 2.06.94-2.06 2.06-.94-2.06-.94-.94-2.06-.94 2.06-2.06.94z\"/><path d=\"M17.41 7.96l-1.37-1.37c-.4-.4-.92-.59-1.43-.59-.52 0-1.04.2-1.43.59L10.3 9.45l-7.72 7.72c-.78.78-.78 2.05 0 2.83L4 21.41c.39.39.9.59 1.41.59.51 0 1.02-.2 1.41-.59l7.78-7.78 2.81-2.81c.8-.78.8-2.07 0-2.86zM5.41 20L4 18.59l7.72-7.72 1.47 1.35L5.41 20z\"/>\n",
              "  </svg>\n",
              "      </button>\n",
              "      \n",
              "  <style>\n",
              "    .colab-df-container {\n",
              "      display:flex;\n",
              "      flex-wrap:wrap;\n",
              "      gap: 12px;\n",
              "    }\n",
              "\n",
              "    .colab-df-convert {\n",
              "      background-color: #E8F0FE;\n",
              "      border: none;\n",
              "      border-radius: 50%;\n",
              "      cursor: pointer;\n",
              "      display: none;\n",
              "      fill: #1967D2;\n",
              "      height: 32px;\n",
              "      padding: 0 0 0 0;\n",
              "      width: 32px;\n",
              "    }\n",
              "\n",
              "    .colab-df-convert:hover {\n",
              "      background-color: #E2EBFA;\n",
              "      box-shadow: 0px 1px 2px rgba(60, 64, 67, 0.3), 0px 1px 3px 1px rgba(60, 64, 67, 0.15);\n",
              "      fill: #174EA6;\n",
              "    }\n",
              "\n",
              "    [theme=dark] .colab-df-convert {\n",
              "      background-color: #3B4455;\n",
              "      fill: #D2E3FC;\n",
              "    }\n",
              "\n",
              "    [theme=dark] .colab-df-convert:hover {\n",
              "      background-color: #434B5C;\n",
              "      box-shadow: 0px 1px 3px 1px rgba(0, 0, 0, 0.15);\n",
              "      filter: drop-shadow(0px 1px 2px rgba(0, 0, 0, 0.3));\n",
              "      fill: #FFFFFF;\n",
              "    }\n",
              "  </style>\n",
              "\n",
              "      <script>\n",
              "        const buttonEl =\n",
              "          document.querySelector('#df-32db973f-b18a-438f-883e-31477fb1c90d button.colab-df-convert');\n",
              "        buttonEl.style.display =\n",
              "          google.colab.kernel.accessAllowed ? 'block' : 'none';\n",
              "\n",
              "        async function convertToInteractive(key) {\n",
              "          const element = document.querySelector('#df-32db973f-b18a-438f-883e-31477fb1c90d');\n",
              "          const dataTable =\n",
              "            await google.colab.kernel.invokeFunction('convertToInteractive',\n",
              "                                                     [key], {});\n",
              "          if (!dataTable) return;\n",
              "\n",
              "          const docLinkHtml = 'Like what you see? Visit the ' +\n",
              "            '<a target=\"_blank\" href=https://colab.research.google.com/notebooks/data_table.ipynb>data table notebook</a>'\n",
              "            + ' to learn more about interactive tables.';\n",
              "          element.innerHTML = '';\n",
              "          dataTable['output_type'] = 'display_data';\n",
              "          await google.colab.output.renderOutput(dataTable, element);\n",
              "          const docLink = document.createElement('div');\n",
              "          docLink.innerHTML = docLinkHtml;\n",
              "          element.appendChild(docLink);\n",
              "        }\n",
              "      </script>\n",
              "    </div>\n",
              "  </div>\n",
              "  "
            ]
          },
          "metadata": {},
          "execution_count": 13
        }
      ]
    },
    {
      "cell_type": "code",
      "source": [
        "final_data.to_csv('final_data.csv', encoding='utf-8-sig', mode = 'w', index = True)"
      ],
      "metadata": {
        "id": "bJVBtRwsipnn"
      },
      "execution_count": null,
      "outputs": []
    },
    {
      "cell_type": "code",
      "source": [
        ""
      ],
      "metadata": {
        "id": "kOJCUVUSFHmT"
      },
      "execution_count": null,
      "outputs": []
    }
  ]
}